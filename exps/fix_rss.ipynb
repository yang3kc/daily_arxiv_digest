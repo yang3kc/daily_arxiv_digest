{
 "cells": [
  {
   "cell_type": "code",
   "execution_count": 1,
   "id": "deede908-da63-4167-b368-f717d85eed24",
   "metadata": {},
   "outputs": [],
   "source": [
    "import feedparser\n",
    "import pandas as pd\n",
    "from bs4 import BeautifulSoup"
   ]
  },
  {
   "cell_type": "code",
   "execution_count": 17,
   "id": "f3c3bfd6-1941-4753-a2e0-5e0f10cf1bee",
   "metadata": {},
   "outputs": [],
   "source": [
    "class ArxivRSS:\n",
    "    def __init__(self, url):\n",
    "        self.url = url\n",
    "        self.paper_df = None\n",
    "\n",
    "    def fetch_paper_list(self):\n",
    "        feed = self._fetch_n_parse_rss()\n",
    "\n",
    "        paper_list = []\n",
    "        for rss_entry in feed[\"entries\"]:\n",
    "            paper_information = self._extract_paper_information(rss_entry)\n",
    "            paper_list.append(paper_information)\n",
    "        self.paper_df = pd.DataFrame(paper_list)\n",
    "        return self.paper_df\n",
    "\n",
    "    def _fetch_n_parse_rss(self):\n",
    "        feed = feedparser.parse(self.url)\n",
    "        return feed\n",
    "\n",
    "    def _parse_html_element(self, raw_string):\n",
    "        soup = BeautifulSoup(raw_string, \"html.parser\")\n",
    "        return soup.text\n",
    "\n",
    "    def _extract_paper_information(self, rss_entry):\n",
    "        paper_id = rss_entry[\"id\"]\n",
    "        paper_title = rss_entry[\"title\"]\n",
    "        paper_abstract = self._parse_html_element(rss_entry[\"summary\"])\n",
    "        paper_url = rss_entry[\"link\"]\n",
    "        paper_authors = []\n",
    "\n",
    "        author_string = rss_entry[\"author\"]\n",
    "        for item in author_string.split(\",\"):\n",
    "            paper_authors.append(item.strip())\n",
    "\n",
    "        if len(paper_authors) > 10:\n",
    "            paper_authors = paper_authors[:10] + [\"...\"]\n",
    "\n",
    "        return {\n",
    "            \"id\": paper_id,\n",
    "            \"title\": paper_title,\n",
    "            \"abstract\": paper_abstract,\n",
    "            \"url\": paper_url,\n",
    "            \"authors\": paper_authors,\n",
    "        }"
   ]
  },
  {
   "cell_type": "code",
   "execution_count": 18,
   "id": "35ab7efa-8c96-4c53-85c1-fb950d1b2149",
   "metadata": {},
   "outputs": [],
   "source": [
    "rss_url = \"http://arxiv.org/rss/\" + \"cs.CY\"\n",
    "arss = ArxivRSS(rss_url)"
   ]
  },
  {
   "cell_type": "code",
   "execution_count": 7,
   "id": "5beb1b07-8e54-4247-b6a8-96e31a923773",
   "metadata": {},
   "outputs": [],
   "source": [
    "feed = arss._fetch_n_parse_rss()"
   ]
  },
  {
   "cell_type": "code",
   "execution_count": 16,
   "id": "1b87bc9c-b44b-4370-b90f-746a7c8ec8b0",
   "metadata": {},
   "outputs": [
    {
     "name": "stdout",
     "output_type": "stream",
     "text": [
      "Tim Tian Hua, James Baskerville, Henri Lemoine, Mia Hopman, Aryan Bhatt, Tyler Tracy\n",
      "Mauricio Baker, Gabriel Kulp, Oliver Marks, Miles Brundage, Lennart Heim\n",
      "Alejandro Cuevas, Manoel Horta Ribeiro, Nicolas Christin\n",
      "Mahika Phutane, Aditya Vashistha\n",
      "Bruno Scarone, Ricardo Baeza-Yates\n",
      "Aparna Ananthasubramaniam, Elyse J. Thulin, Viktoryia Kalesnikava, Silas Falde, Jonathan Kertawidjaja, Lily Johns, Alejandro Rodr\\'iguez-Putnam, Emma Spring, Kara Zivin, Briana Mezuk\n",
      "Tanusree Sharma, Yihao Zhou, Visar Berisha\n",
      "Octavian M. Machidon\n",
      "Jun-Wei Zeng, Jerry Shen\n",
      "Lisa Dargasz\n",
      "Joydeep Chandra, Satyam Kumar Navneet\n",
      "Katelyn Morrison, Arpit Mathur, Aidan Bradshaw, Tom Wartmann, Steven Lundi, Afrooz Zandifar, Weichang Dai, Kayhan Batmanghelich, Motahhare Eslami, Adam Perer\n",
      "Bo Wen, Chen Wang, Qiwei Han, Raquel Norel, Julia Liu, Thaddeus Stappenbeck, Jeffrey L. Rogers\n",
      "Gautam Kishore Shahi, Scot A. Hale\n",
      "Shalaka Satheesh, Katrin Klug, Katharina Beckh, H\\'ector Allende-Cid, Sebastian Houben, Teena Hassan\n",
      "Han Jiang, Dongyao Zhu, Zhihua Wei, Xiaoyuan Yi, Ziang Xiao, Xing Xie\n",
      "Laura Moradbakhti, Dorian Peters, Jennifer K. Quint, Bj\\\"orn Schuller, Darren Cook, Rafael A. Calvo\n",
      "Xiangru Tang, Qiao Jin, Kunlun Zhu, Tongxin Yuan, Yichi Zhang, Wangchunshu Zhou, Meng Qu, Yilun Zhao, Jian Tang, Zhuosheng Zhang, Arman Cohan, Zhiyong Lu, Mark Gerstein\n",
      "Jia Xiao\n",
      "Qian Wang, Yubo Fan, Zhenheng Tang, Nuo Chen, Wenxuan Wang, Bingsheng He\n",
      "Zilan Qian, Mari Izumikawa, Fiona Lodge, Angelo Leone\n",
      "Jose M. Alvarez, Salvatore Ruggieri\n",
      "Tanusree Sharma, Yujin Potter, Zachary Kilhoffer, Yun Huang, Dawn Song, Yang Wang\n",
      "Pierre Sermanet, Anirudha Majumdar, Vikas Sindhwani\n",
      "Giovanni Bernardi, Adrian Francalanza, Marco Peressotti, Mohammad Reza Mousavi\n",
      "Lorenzo Mannocci, Stefano Cresci, Matteo Magnani, Anna Monreale, Maurizio Tesconi\n",
      "Mohammad 'Matt' Namvarpour, Brandon Brofsky, Jessica Medina, Mamtaj Akter, Afsaneh Razi\n"
     ]
    }
   ],
   "source": [
    "for entry in feed['entries']:\n",
    "    print(entry['author'])"
   ]
  },
  {
   "cell_type": "code",
   "execution_count": 14,
   "id": "fea4f581-cd65-4bb1-982f-abce7918f12e",
   "metadata": {},
   "outputs": [
    {
     "data": {
      "text/plain": [
       "'https://arxiv.org/abs/2507.15886'"
      ]
     },
     "execution_count": 14,
     "metadata": {},
     "output_type": "execute_result"
    }
   ],
   "source": [
    "feed['entries'][0]['authors']"
   ]
  },
  {
   "cell_type": "code",
   "execution_count": 19,
   "id": "4a892cfd-b125-4390-8e22-39c7304a3220",
   "metadata": {},
   "outputs": [],
   "source": [
    "paper_list = arss.fetch_paper_list()"
   ]
  },
  {
   "cell_type": "code",
   "execution_count": 21,
   "id": "cace8e4c-7767-4458-bab5-a1caf24a824d",
   "metadata": {},
   "outputs": [
    {
     "name": "stdout",
     "output_type": "stream",
     "text": [
      "['Tim Tian Hua', 'James Baskerville', 'Henri Lemoine', 'Mia Hopman', 'Aryan Bhatt', 'Tyler Tracy']\n",
      "['Mauricio Baker', 'Gabriel Kulp', 'Oliver Marks', 'Miles Brundage', 'Lennart Heim']\n",
      "['Alejandro Cuevas', 'Manoel Horta Ribeiro', 'Nicolas Christin']\n",
      "['Mahika Phutane', 'Aditya Vashistha']\n",
      "['Bruno Scarone', 'Ricardo Baeza-Yates']\n",
      "['Aparna Ananthasubramaniam', 'Elyse J. Thulin', 'Viktoryia Kalesnikava', 'Silas Falde', 'Jonathan Kertawidjaja', 'Lily Johns', \"Alejandro Rodr\\\\'iguez-Putnam\", 'Emma Spring', 'Kara Zivin', 'Briana Mezuk']\n",
      "['Tanusree Sharma', 'Yihao Zhou', 'Visar Berisha']\n",
      "['Octavian M. Machidon']\n",
      "['Jun-Wei Zeng', 'Jerry Shen']\n",
      "['Lisa Dargasz']\n",
      "['Joydeep Chandra', 'Satyam Kumar Navneet']\n",
      "['Katelyn Morrison', 'Arpit Mathur', 'Aidan Bradshaw', 'Tom Wartmann', 'Steven Lundi', 'Afrooz Zandifar', 'Weichang Dai', 'Kayhan Batmanghelich', 'Motahhare Eslami', 'Adam Perer']\n",
      "['Bo Wen', 'Chen Wang', 'Qiwei Han', 'Raquel Norel', 'Julia Liu', 'Thaddeus Stappenbeck', 'Jeffrey L. Rogers']\n",
      "['Gautam Kishore Shahi', 'Scot A. Hale']\n",
      "['Shalaka Satheesh', 'Katrin Klug', 'Katharina Beckh', \"H\\\\'ector Allende-Cid\", 'Sebastian Houben', 'Teena Hassan']\n",
      "['Han Jiang', 'Dongyao Zhu', 'Zhihua Wei', 'Xiaoyuan Yi', 'Ziang Xiao', 'Xing Xie']\n",
      "['Laura Moradbakhti', 'Dorian Peters', 'Jennifer K. Quint', 'Bj\\\\\"orn Schuller', 'Darren Cook', 'Rafael A. Calvo']\n",
      "['Xiangru Tang', 'Qiao Jin', 'Kunlun Zhu', 'Tongxin Yuan', 'Yichi Zhang', 'Wangchunshu Zhou', 'Meng Qu', 'Yilun Zhao', 'Jian Tang', 'Zhuosheng Zhang', '...']\n",
      "['Jia Xiao']\n",
      "['Qian Wang', 'Yubo Fan', 'Zhenheng Tang', 'Nuo Chen', 'Wenxuan Wang', 'Bingsheng He']\n",
      "['Zilan Qian', 'Mari Izumikawa', 'Fiona Lodge', 'Angelo Leone']\n",
      "['Jose M. Alvarez', 'Salvatore Ruggieri']\n",
      "['Tanusree Sharma', 'Yujin Potter', 'Zachary Kilhoffer', 'Yun Huang', 'Dawn Song', 'Yang Wang']\n",
      "['Pierre Sermanet', 'Anirudha Majumdar', 'Vikas Sindhwani']\n",
      "['Giovanni Bernardi', 'Adrian Francalanza', 'Marco Peressotti', 'Mohammad Reza Mousavi']\n",
      "['Lorenzo Mannocci', 'Stefano Cresci', 'Matteo Magnani', 'Anna Monreale', 'Maurizio Tesconi']\n",
      "[\"Mohammad 'Matt' Namvarpour\", 'Brandon Brofsky', 'Jessica Medina', 'Mamtaj Akter', 'Afsaneh Razi']\n"
     ]
    }
   ],
   "source": [
    "for index, row in paper_list.iterrows():\n",
    "    print(row['authors'])"
   ]
  },
  {
   "cell_type": "code",
   "execution_count": null,
   "id": "10de8da7-2c44-476d-99ca-6f3daf0d7404",
   "metadata": {},
   "outputs": [],
   "source": []
  }
 ],
 "metadata": {
  "kernelspec": {
   "display_name": "Python 3 (ipykernel)",
   "language": "python",
   "name": "python3"
  },
  "language_info": {
   "codemirror_mode": {
    "name": "ipython",
    "version": 3
   },
   "file_extension": ".py",
   "mimetype": "text/x-python",
   "name": "python",
   "nbconvert_exporter": "python",
   "pygments_lexer": "ipython3",
   "version": "3.12.10"
  }
 },
 "nbformat": 4,
 "nbformat_minor": 5
}
