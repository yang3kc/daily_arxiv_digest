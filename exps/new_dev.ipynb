{
 "cells": [
  {
   "cell_type": "code",
   "execution_count": 5,
   "id": "b08d2921-64ae-48d5-b8e5-cc3151fd4b89",
   "metadata": {},
   "outputs": [],
   "source": [
    "import gzip\n",
    "import json"
   ]
  },
  {
   "cell_type": "code",
   "execution_count": 6,
   "id": "b3ab7eb9-2f57-45d1-9104-64bbdefd9641",
   "metadata": {},
   "outputs": [],
   "source": [
    "with gzip.open(\"../data/2023-12-08.json.gz\") as f:\n",
    "    rss_content = json.load(f)"
   ]
  },
  {
   "cell_type": "code",
   "execution_count": 10,
   "id": "4574e741-07de-4bb0-b6a6-5f20b8a1ff0c",
   "metadata": {},
   "outputs": [
    {
     "data": {
      "text/plain": [
       "{'id': 'http://arxiv.org/abs/2312.03749',\n",
       " 'title': 'Conceptual Engineering Using Large Language Models. (arXiv:2312.03749v1 [cs.CL])',\n",
       " 'abstract': \"We describe a method, based on Jennifer Nado's definition of classification\\nprocedures as targets of conceptual engineering, that implements such\\nprocedures using a large language model. We then apply this method using data\\nfrom the Wikidata knowledge graph to evaluate concept definitions from two\\nparadigmatic conceptual engineering projects: the International Astronomical\\nUnion's redefinition of PLANET and Haslanger's ameliorative analysis of WOMAN.\\nWe discuss implications of this work for the theory and practice of conceptual\\nengineering. The code and data can be found on GitHub.\\n\",\n",
       " 'url': 'http://arxiv.org/abs/2312.03749',\n",
       " 'authors': ['Bradley P. Allen']}"
      ]
     },
     "execution_count": 10,
     "metadata": {},
     "output_type": "execute_result"
    }
   ],
   "source": [
    "rss_content['http://arxiv.org/abs/2312.03749']"
   ]
  }
 ],
 "metadata": {
  "kernelspec": {
   "display_name": "Python 3 (ipykernel)",
   "language": "python",
   "name": "python3"
  },
  "language_info": {
   "codemirror_mode": {
    "name": "ipython",
    "version": 3
   },
   "file_extension": ".py",
   "mimetype": "text/x-python",
   "name": "python",
   "nbconvert_exporter": "python",
   "pygments_lexer": "ipython3",
   "version": "3.10.12"
  }
 },
 "nbformat": 4,
 "nbformat_minor": 5
}
